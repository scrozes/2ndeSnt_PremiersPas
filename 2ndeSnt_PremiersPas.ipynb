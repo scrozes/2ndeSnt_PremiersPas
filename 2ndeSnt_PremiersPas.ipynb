{
 "cells": [
  {
   "cell_type": "markdown",
   "id": "f7b4e231",
   "metadata": {},
   "source": [
    "#  1. Exécuter un code complexe en Python."
   ]
  },
  {
   "cell_type": "markdown",
   "id": "3bce8b1d",
   "metadata": {},
   "source": [
    "  Exécutez ce programme qui suit : il y a des erreurs dans ce code, corrigez-les, puis exécutez à nouveau.\n"
   ]
  },
  {
   "cell_type": "markdown",
   "id": "a5b43048",
   "metadata": {},
   "source": [
    "## Tout le code placé après « # » est un commentaire : il donne des explications mais ne sera pas exécuté avec le reste du code.\n"
   ]
  },
  {
   "cell_type": "code",
   "execution_count": 12,
   "id": "abf3a91e",
   "metadata": {},
   "outputs": [
    {
     "name": "stdout",
     "output_type": "stream",
     "text": [
      "Trouve le nombre magique :23\n",
      "Le nombre magique est plus grand !\n",
      "Trouve le nombre magique :34\n",
      "Le nombre magique est plus grand !\n",
      "Trouve le nombre magique :45\n",
      "You loose !, Le nombre magique etait :  11\n"
     ]
    }
   ],
   "source": [
    "import random  #On importe un module complementaire\n",
    "\n",
    "#Le programme commence ici !\n",
    "\n",
    "r = random.randint(1,20)  #r est un nombre entier aleatoire compris entre 1 et 20\n",
    "i=1\n",
    "Proposition=int(input(\"Trouve le nombre magique :\"))\n",
    "while i<3 :\n",
    "    if Proposition < r :\n",
    "        print(\"Le nombre magique est plus petit !\")\n",
    "    if Proposition > r :\n",
    "        print(\"Le nombre magique est plus grand !\")\n",
    "    if Proposition == r :\n",
    "        print(\"Congratulation !\")\n",
    "        i=2\n",
    "    Proposition=int(input(\"Trouve le nombre magique :\"))\n",
    "    i=i+1\n",
    "if Proposition != r:\n",
    "    print(\"You loose !, Le nombre magique etait : \", r)\n"
   ]
  },
  {
   "cell_type": "markdown",
   "id": "6f142267",
   "metadata": {},
   "source": [
    "# 2. Premiers calculs en langage Python –  Fonction \"print\""
   ]
  },
  {
   "cell_type": "markdown",
   "id": "65b86b53",
   "metadata": {},
   "source": [
    "Exécuter avec la touche ►| les codes suivants afin de comprendre le fonctionnement de la fonction \"print\"."
   ]
  },
  {
   "cell_type": "code",
   "execution_count": 4,
   "id": "220de21b",
   "metadata": {},
   "outputs": [
    {
     "name": "stdout",
     "output_type": "stream",
     "text": [
      " Hello Python\n"
     ]
    }
   ],
   "source": [
    "print(\" Hello Python\")"
   ]
  },
  {
   "cell_type": "code",
   "execution_count": 5,
   "id": "b5b42465",
   "metadata": {},
   "outputs": [
    {
     "name": "stdout",
     "output_type": "stream",
     "text": [
      "7\n"
     ]
    }
   ],
   "source": [
    "print( 3 + 4 )"
   ]
  },
  {
   "cell_type": "code",
   "execution_count": null,
   "id": "091982ca",
   "metadata": {},
   "outputs": [],
   "source": [
    "print( \" 3 + 4 \" )"
   ]
  },
  {
   "cell_type": "code",
   "execution_count": null,
   "id": "576f7986",
   "metadata": {},
   "outputs": [],
   "source": [
    "print( \"3\" , \"4\" )"
   ]
  },
  {
   "cell_type": "markdown",
   "id": "d473300f",
   "metadata": {},
   "source": [
    "Expliquer quel est le rôle des guillements dans la fonction print : quand les utilise-t-on ? "
   ]
  },
  {
   "cell_type": "markdown",
   "id": "4822a548",
   "metadata": {},
   "source": [
    "# 3. Les priorités de calcul – Variables en Python\""
   ]
  },
  {
   "cell_type": "markdown",
   "id": "cea31c30",
   "metadata": {},
   "source": [
    "le signe de la multiplication « x » est obtenu avec « * »"
   ]
  },
  {
   "cell_type": "code",
   "execution_count": null,
   "id": "0a328946",
   "metadata": {},
   "outputs": [],
   "source": [
    "print( 5 + 2*3)"
   ]
  },
  {
   "cell_type": "code",
   "execution_count": null,
   "id": "335f9c6f",
   "metadata": {},
   "outputs": [],
   "source": [
    "a = 3\n",
    "b = 4\n",
    "c = a + b\n",
    "print( c )"
   ]
  },
  {
   "cell_type": "code",
   "execution_count": null,
   "id": "9dec04ef",
   "metadata": {},
   "outputs": [],
   "source": [
    "a = 3\n",
    "b = 4\n",
    "c = a + b\n",
    "print( \"c\" )"
   ]
  },
  {
   "cell_type": "markdown",
   "id": "4bbe0ed7",
   "metadata": {},
   "source": [
    "Compléter le code suivant pour que l'éxcution affiche comme résultat : \n",
    "\n",
    "Le résultat de l’opération 5 + 6 vaut : 11"
   ]
  },
  {
   "cell_type": "code",
   "execution_count": null,
   "id": "077b91c4",
   "metadata": {},
   "outputs": [],
   "source": [
    "a = ….\n",
    "…. = 6\n",
    "… = …. + ….\n",
    "print( …. Le résultat de l’opération ……………….. vaut ..............)\n"
   ]
  },
  {
   "cell_type": "markdown",
   "id": "b674a491",
   "metadata": {},
   "source": [
    "# 4. Dialoguer avec Python"
   ]
  },
  {
   "cell_type": "code",
   "execution_count": null,
   "id": "bb64ac6a",
   "metadata": {},
   "outputs": [],
   "source": [
    "a = input( \" Fait-il beau ce matin ? \" )\n",
    "print(\" Vous avez-répondu : \" , a)"
   ]
  },
  {
   "cell_type": "code",
   "execution_count": null,
   "id": "ea109e91",
   "metadata": {},
   "outputs": [],
   "source": [
    "a = input( \" Fait-il beau ce matin ?  \\n \" )\n",
    "print(\" Vous avez-répondu \" , a)"
   ]
  },
  {
   "cell_type": "markdown",
   "id": "cc297293",
   "metadata": {},
   "source": [
    "#### int() :  permet de signifier à Python que le contenu tapé entre parenthèses est un nombre entier (integer en anglais)"
   ]
  },
  {
   "cell_type": "code",
   "execution_count": 6,
   "id": "91f4576c",
   "metadata": {},
   "outputs": [
    {
     "name": "stdout",
     "output_type": "stream",
     "text": [
      " Quelle valeur est contenue dans la variable a ?  \n",
      " 12\n",
      "12\n"
     ]
    }
   ],
   "source": [
    "a = int (input( \" Choisir une valeur qui sera contenue dans la variable a ?  \\n \" ))\n",
    "print(a)"
   ]
  },
  {
   "cell_type": "markdown",
   "id": "be3c7739",
   "metadata": {},
   "source": [
    "#### Créer un code qui doit : \n",
    "    •  demander à l'éxcuteur de choisir les valeurs de deux variables considérées comme entières.\n",
    "    •  d'affichager à la fin le produit de a par b."
   ]
  },
  {
   "cell_type": "code",
   "execution_count": null,
   "id": "9220365b",
   "metadata": {},
   "outputs": [],
   "source": []
  }
 ],
 "metadata": {
  "kernelspec": {
   "display_name": "Python 3",
   "language": "python",
   "name": "python3"
  },
  "language_info": {
   "codemirror_mode": {
    "name": "ipython",
    "version": 3
   },
   "file_extension": ".py",
   "mimetype": "text/x-python",
   "name": "python",
   "nbconvert_exporter": "python",
   "pygments_lexer": "ipython3",
   "version": "3.8.8"
  }
 },
 "nbformat": 4,
 "nbformat_minor": 5
}
